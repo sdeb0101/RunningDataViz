{
 "cells": [
  {
   "cell_type": "code",
   "execution_count": 7,
   "id": "da0b2a98-21ac-4406-852d-6c88acf809d3",
   "metadata": {},
   "outputs": [
    {
     "name": "stdout",
     "output_type": "stream",
     "text": [
      "Requirement already satisfied: pandas in /srv/conda/envs/notebook/lib/python3.10/site-packages (2.2.3)\n",
      "Requirement already satisfied: matplotlib in /srv/conda/envs/notebook/lib/python3.10/site-packages (3.10.0)\n",
      "Requirement already satisfied: ipywidgets in /srv/conda/envs/notebook/lib/python3.10/site-packages (8.1.5)\n",
      "Requirement already satisfied: numpy>=1.22.4 in /srv/conda/envs/notebook/lib/python3.10/site-packages (from pandas) (2.2.1)\n",
      "Requirement already satisfied: python-dateutil>=2.8.2 in /srv/conda/envs/notebook/lib/python3.10/site-packages (from pandas) (2.9.0)\n",
      "Requirement already satisfied: pytz>=2020.1 in /srv/conda/envs/notebook/lib/python3.10/site-packages (from pandas) (2024.1)\n",
      "Requirement already satisfied: tzdata>=2022.7 in /srv/conda/envs/notebook/lib/python3.10/site-packages (from pandas) (2024.2)\n",
      "Requirement already satisfied: contourpy>=1.0.1 in /srv/conda/envs/notebook/lib/python3.10/site-packages (from matplotlib) (1.3.1)\n",
      "Requirement already satisfied: cycler>=0.10 in /srv/conda/envs/notebook/lib/python3.10/site-packages (from matplotlib) (0.12.1)\n",
      "Requirement already satisfied: fonttools>=4.22.0 in /srv/conda/envs/notebook/lib/python3.10/site-packages (from matplotlib) (4.55.3)\n",
      "Requirement already satisfied: kiwisolver>=1.3.1 in /srv/conda/envs/notebook/lib/python3.10/site-packages (from matplotlib) (1.4.8)\n",
      "Requirement already satisfied: packaging>=20.0 in /srv/conda/envs/notebook/lib/python3.10/site-packages (from matplotlib) (24.1)\n",
      "Requirement already satisfied: pillow>=8 in /srv/conda/envs/notebook/lib/python3.10/site-packages (from matplotlib) (11.0.0)\n",
      "Requirement already satisfied: pyparsing>=2.3.1 in /srv/conda/envs/notebook/lib/python3.10/site-packages (from matplotlib) (3.2.0)\n",
      "Requirement already satisfied: comm>=0.1.3 in /srv/conda/envs/notebook/lib/python3.10/site-packages (from ipywidgets) (0.2.2)\n",
      "Requirement already satisfied: ipython>=6.1.0 in /srv/conda/envs/notebook/lib/python3.10/site-packages (from ipywidgets) (8.26.0)\n",
      "Requirement already satisfied: traitlets>=4.3.1 in /srv/conda/envs/notebook/lib/python3.10/site-packages (from ipywidgets) (5.14.3)\n",
      "Requirement already satisfied: widgetsnbextension~=4.0.12 in /srv/conda/envs/notebook/lib/python3.10/site-packages (from ipywidgets) (4.0.13)\n",
      "Requirement already satisfied: jupyterlab-widgets~=3.0.12 in /srv/conda/envs/notebook/lib/python3.10/site-packages (from ipywidgets) (3.0.13)\n",
      "Requirement already satisfied: decorator in /srv/conda/envs/notebook/lib/python3.10/site-packages (from ipython>=6.1.0->ipywidgets) (5.1.1)\n",
      "Requirement already satisfied: jedi>=0.16 in /srv/conda/envs/notebook/lib/python3.10/site-packages (from ipython>=6.1.0->ipywidgets) (0.19.1)\n",
      "Requirement already satisfied: matplotlib-inline in /srv/conda/envs/notebook/lib/python3.10/site-packages (from ipython>=6.1.0->ipywidgets) (0.1.7)\n",
      "Requirement already satisfied: prompt-toolkit<3.1.0,>=3.0.41 in /srv/conda/envs/notebook/lib/python3.10/site-packages (from ipython>=6.1.0->ipywidgets) (3.0.47)\n",
      "Requirement already satisfied: pygments>=2.4.0 in /srv/conda/envs/notebook/lib/python3.10/site-packages (from ipython>=6.1.0->ipywidgets) (2.18.0)\n",
      "Requirement already satisfied: stack-data in /srv/conda/envs/notebook/lib/python3.10/site-packages (from ipython>=6.1.0->ipywidgets) (0.6.2)\n",
      "Requirement already satisfied: exceptiongroup in /srv/conda/envs/notebook/lib/python3.10/site-packages (from ipython>=6.1.0->ipywidgets) (1.2.2)\n",
      "Requirement already satisfied: typing-extensions>=4.6 in /srv/conda/envs/notebook/lib/python3.10/site-packages (from ipython>=6.1.0->ipywidgets) (4.12.2)\n",
      "Requirement already satisfied: pexpect>4.3 in /srv/conda/envs/notebook/lib/python3.10/site-packages (from ipython>=6.1.0->ipywidgets) (4.9.0)\n",
      "Requirement already satisfied: six>=1.5 in /srv/conda/envs/notebook/lib/python3.10/site-packages (from python-dateutil>=2.8.2->pandas) (1.16.0)\n",
      "Requirement already satisfied: parso<0.9.0,>=0.8.3 in /srv/conda/envs/notebook/lib/python3.10/site-packages (from jedi>=0.16->ipython>=6.1.0->ipywidgets) (0.8.4)\n",
      "Requirement already satisfied: ptyprocess>=0.5 in /srv/conda/envs/notebook/lib/python3.10/site-packages (from pexpect>4.3->ipython>=6.1.0->ipywidgets) (0.7.0)\n",
      "Requirement already satisfied: wcwidth in /srv/conda/envs/notebook/lib/python3.10/site-packages (from prompt-toolkit<3.1.0,>=3.0.41->ipython>=6.1.0->ipywidgets) (0.2.13)\n",
      "Requirement already satisfied: executing>=1.2.0 in /srv/conda/envs/notebook/lib/python3.10/site-packages (from stack-data->ipython>=6.1.0->ipywidgets) (2.0.1)\n",
      "Requirement already satisfied: asttokens>=2.1.0 in /srv/conda/envs/notebook/lib/python3.10/site-packages (from stack-data->ipython>=6.1.0->ipywidgets) (2.4.1)\n",
      "Requirement already satisfied: pure-eval in /srv/conda/envs/notebook/lib/python3.10/site-packages (from stack-data->ipython>=6.1.0->ipywidgets) (0.2.3)\n"
     ]
    }
   ],
   "source": [
    "!pip install pandas matplotlib ipywidgets"
   ]
  },
  {
   "cell_type": "code",
   "execution_count": 8,
   "id": "54bf73bb-c930-4f60-ab9a-6c5e44783d36",
   "metadata": {},
   "outputs": [],
   "source": [
    "import pandas as pd\n",
    "import matplotlib.pyplot as plt\n",
    "import matplotlib.dates as mdates\n",
    "from ipywidgets import interact"
   ]
  },
  {
   "cell_type": "code",
   "execution_count": 9,
   "id": "3f45ab8b-6d53-48d0-a4d0-6badbd25ac5a",
   "metadata": {},
   "outputs": [],
   "source": [
    "# Load data from CSV\n",
    "data_file = 'run_data.csv'  # Ensure your .csv file is uploaded to Binder\n",
    "df = pd.read_csv(data_file)\n",
    "\n",
    "# Convert 'Date' to datetime for proper plotting\n",
    "df['Date'] = pd.to_datetime(df['Date'], format='%d/%m/%y', errors='coerce')\n",
    "\n",
    "# Check if there are any invalid date values after conversion\n",
    "if df['Date'].isnull().any():\n",
    "    print(\"Warning: Some dates could not be parsed correctly.\")\n",
    "\n",
    "# Preprocess 'Avg Pace (min/km)' column to match hh:mm:ss format\n",
    "if 'Avg Pace (min/km)' in df.columns:\n",
    "    df['Avg Pace (min/km)'] = (\n",
    "        df['Avg Pace (min/km)']\n",
    "        .str.replace(\"'\", \":\", regex=False)\n",
    "        .str.replace('\"', '', regex=False)\n",
    "    )\n",
    "    df['Avg Pace (min/km)'] = df['Avg Pace (min/km)'].apply(lambda x: f\"00:{x}\" if x.count(':') == 1 else x)\n",
    "    df['Avg Pace (timedelta)'] = pd.to_timedelta(df['Avg Pace (min/km)'])\n",
    "\n",
    "# Set a consistent date format for the x-axis\n",
    "date_format = mdates.DateFormatter('%d-%m-%Y')"
   ]
  },
  {
   "cell_type": "code",
   "execution_count": 10,
   "id": "d54858eb-7e94-49c2-b592-ab208b0c9f36",
   "metadata": {},
   "outputs": [],
   "source": [
    "# Weekly summaries\n",
    "df['Week'] = df['Date'].dt.to_period('W')\n",
    "weekly_distance = df.groupby('Week')['Distance (km)'].sum()\n",
    "weekly_pace = df.groupby('Week')['Avg Pace (timedelta)'].mean()"
   ]
  },
  {
   "cell_type": "code",
   "execution_count": 11,
   "id": "dcd46e20-e09c-4069-b1c4-0e34a34438de",
   "metadata": {},
   "outputs": [],
   "source": [
    "# Interactive plot function\n",
    "def plot_interactive(start_date='2024-12-01', end_date='2024-12-31'):\n",
    "    start_date = pd.to_datetime(start_date)\n",
    "    end_date = pd.to_datetime(end_date)\n",
    "    filtered_df = df[(df['Date'] >= start_date) & (df['Date'] <= end_date)]\n",
    "    \n",
    "    # Plot distance over time\n",
    "    plt.figure(figsize=(10, 5))\n",
    "    plt.plot(filtered_df['Date'], filtered_df['Distance (km)'], marker='o', label='Distance (km)')\n",
    "    plt.title('Distance Progress Over Time')\n",
    "    plt.xlabel('Date')\n",
    "    plt.ylabel('Distance (km)')\n",
    "    plt.gca().xaxis.set_major_formatter(date_format)  # Apply date format to x-axis\n",
    "    plt.gcf().autofmt_xdate()  # Rotate date labels for readability\n",
    "    plt.grid(True)\n",
    "    plt.legend()\n",
    "    \n",
    "    # Plot average pace over time\n",
    "    if 'Avg Pace (timedelta)' in filtered_df.columns:\n",
    "        plt.figure(figsize=(10, 5))\n",
    "        plt.plot(filtered_df['Date'], filtered_df['Avg Pace (timedelta)'].dt.total_seconds() / 60, marker='o', label='Avg Pace (min/km)')\n",
    "        plt.title('Average Pace Progress Over Time')\n",
    "        plt.xlabel('Date')\n",
    "        plt.ylabel('Pace (min/km)')\n",
    "        plt.gca().xaxis.set_major_formatter(date_format)\n",
    "        plt.gcf().autofmt_xdate()\n",
    "        plt.grid(True)\n",
    "        plt.legend()\n",
    "\n",
    "    # Plot average heart rate over time\n",
    "    if 'Avg Heart Rate (bpm)' in filtered_df.columns:\n",
    "        plt.figure(figsize=(10, 5))\n",
    "        plt.plot(filtered_df['Date'], filtered_df['Avg Heart Rate (bpm)'], marker='o', label='Avg Heart Rate')\n",
    "        plt.title('Heart Rate Progress Over Time')\n",
    "        plt.xlabel('Date')\n",
    "        plt.ylabel('Heart Rate (bpm)')\n",
    "        plt.gca().xaxis.set_major_formatter(date_format)\n",
    "        plt.gcf().autofmt_xdate()\n",
    "        plt.grid(True)\n",
    "        plt.legend()\n",
    "\n",
    "    # Plot calories burned over time (assuming the column 'Calories Burned' exists in your dataset)\n",
    "    if 'Calories Burned' in filtered_df.columns:\n",
    "        plt.figure(figsize=(10, 5))\n",
    "        plt.plot(filtered_df['Date'], filtered_df['Calories Burned'], marker='o', label='Calories Burned')\n",
    "        plt.title('Calories Burned Over Time')\n",
    "        plt.xlabel('Date')\n",
    "        plt.ylabel('Calories')\n",
    "        plt.gca().xaxis.set_major_formatter(date_format)\n",
    "        plt.gcf().autofmt_xdate()\n",
    "        plt.grid(True)\n",
    "        plt.legend()\n",
    "\n",
    "    # Plot stride frequency over time (assuming the column 'Avg Stride Frequency (spm)' exists in your dataset)\n",
    "    if 'Avg Stride Frequency (spm)' in filtered_df.columns:\n",
    "        plt.figure(figsize=(10, 5))\n",
    "        plt.plot(filtered_df['Date'], filtered_df['Avg Stride Frequency (spm)'], marker='o', label='Stride Frequency')\n",
    "        plt.title('Stride Frequency Over Time')\n",
    "        plt.xlabel('Date')\n",
    "        plt.ylabel('Stride Frequency (steps/min)')\n",
    "        plt.gca().xaxis.set_major_formatter(date_format)\n",
    "        plt.gcf().autofmt_xdate()\n",
    "        plt.grid(True)\n",
    "        plt.legend()\n",
    "\n",
    "    # Plot weekly distance\n",
    "    plt.figure(figsize=(10, 5))\n",
    "    weekly_filtered_distance = weekly_distance[(weekly_distance.index >= start_date.to_period('W')) & (weekly_distance.index <= end_date.to_period('W'))]\n",
    "    plt.plot(weekly_filtered_distance.index.astype(str), weekly_filtered_distance, marker='o', label='Weekly Distance (km)')\n",
    "    plt.title('Weekly Distance Progress')\n",
    "    plt.xlabel('Week')\n",
    "    plt.ylabel('Distance (km)')\n",
    "    plt.xticks(rotation=45)\n",
    "    plt.grid(True)\n",
    "    plt.legend()\n",
    "\n",
    "    # Plot weekly average pace\n",
    "    plt.figure(figsize=(10, 5))\n",
    "    weekly_filtered_pace = weekly_pace[(weekly_pace.index >= start_date.to_period('W')) & (weekly_pace.index <= end_date.to_period('W'))]\n",
    "    plt.plot(weekly_filtered_pace.index.astype(str), weekly_filtered_pace.dt.total_seconds() / 60, marker='o', label='Weekly Avg Pace (min/km)')\n",
    "    plt.title('Weekly Average Pace Progress')\n",
    "    plt.xlabel('Week')\n",
    "    plt.ylabel('Pace (min/km)')\n",
    "    plt.xticks(rotation=45)\n",
    "    plt.grid(True)\n",
    "    plt.legend()\n",
    "\n",
    "# Display all figures\n",
    "    plt.show()"
   ]
  },
  {
   "cell_type": "code",
   "execution_count": 13,
   "id": "644b8db2-480b-4dd6-899e-f9cff2270446",
   "metadata": {},
   "outputs": [
    {
     "data": {
      "application/vnd.jupyter.widget-view+json": {
       "model_id": "319a7e4d590b47499fd84b6a53759a7a",
       "version_major": 2,
       "version_minor": 0
      },
      "text/plain": [
       "interactive(children=(Text(value='2024-12-01', description='start_date'), Text(value='2024-12-31', description…"
      ]
     },
     "metadata": {},
     "output_type": "display_data"
    }
   ],
   "source": [
    "# Create the interactive widget for date range selection\n",
    "interact(plot_interactive, start_date='2024-12-01', end_date='2024-12-31');"
   ]
  }
 ],
 "metadata": {
  "kernelspec": {
   "display_name": "Python 3 (ipykernel)",
   "language": "python",
   "name": "python3"
  },
  "language_info": {
   "codemirror_mode": {
    "name": "ipython",
    "version": 3
   },
   "file_extension": ".py",
   "mimetype": "text/x-python",
   "name": "python",
   "nbconvert_exporter": "python",
   "pygments_lexer": "ipython3",
   "version": "3.10.14"
  }
 },
 "nbformat": 4,
 "nbformat_minor": 5
}
